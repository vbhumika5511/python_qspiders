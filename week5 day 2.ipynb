{
 "cells": [
  {
   "cell_type": "code",
   "execution_count": 1,
   "metadata": {},
   "outputs": [
    {
     "name": "stdout",
     "output_type": "stream",
     "text": [
      "*\n",
      "**\n",
      "***\n",
      "****\n",
      "*****\n"
     ]
    }
   ],
   "source": [
    "for i in range(1,6):\n",
    "    print('*'*i)"
   ]
  },
  {
   "cell_type": "code",
   "execution_count": 2,
   "metadata": {},
   "outputs": [
    {
     "name": "stdout",
     "output_type": "stream",
     "text": [
      "      *\n",
      "     **\n",
      "    ***\n",
      "   ****\n",
      "  *****\n",
      " ******\n"
     ]
    }
   ],
   "source": [
    "for i in range(1,7):\n",
    "    print(f\"{'*'*i:>7}\")             ## > to get right justification\n",
    "    "
   ]
  },
  {
   "cell_type": "code",
   "execution_count": 10,
   "metadata": {},
   "outputs": [
    {
     "name": "stdout",
     "output_type": "stream",
     "text": [
      "       \n",
      "*      \n",
      "**     \n",
      "***    \n",
      "****   \n",
      "*****  \n",
      "****** \n"
     ]
    }
   ],
   "source": [
    "for i in range(7):\n",
    "    print(f\"{'*'*i:<7}\")             ## < to get left justification\n",
    "    "
   ]
  },
  {
   "cell_type": "code",
   "execution_count": 13,
   "metadata": {},
   "outputs": [
    {
     "name": "stdout",
     "output_type": "stream",
     "text": [
      "          \n",
      "    *     \n",
      "   * *    \n",
      "  * * *   \n",
      " * * * *  \n",
      "* * * * * \n"
     ]
    }
   ],
   "source": [
    "for i in range(6):\n",
    "    print(f\"{'* '*i:^10}\")             ## ^ to get center justification\n",
    "    "
   ]
  },
  {
   "cell_type": "code",
   "execution_count": 3,
   "metadata": {},
   "outputs": [
    {
     "name": "stdout",
     "output_type": "stream",
     "text": [
      "****** \n",
      "*****  \n",
      "****   \n",
      "***    \n",
      "**     \n",
      "*      \n"
     ]
    }
   ],
   "source": [
    "for i in range(6,0,-1):\n",
    "    print(f\"{'*'*i:<7}\")             ## > to get right justification\n",
    "    "
   ]
  },
  {
   "cell_type": "code",
   "execution_count": 4,
   "metadata": {},
   "outputs": [
    {
     "name": "stdout",
     "output_type": "stream",
     "text": [
      "* * * * * * \n",
      " * * * * *  \n",
      "  * * * *   \n",
      "   * * *    \n",
      "    * *     \n",
      "     *      \n",
      "            \n"
     ]
    }
   ],
   "source": [
    "for i in range(6,0,-1):\n",
    "    print(f\"{'* '*i:^12}\")"
   ]
  },
  {
   "cell_type": "code",
   "execution_count": 24,
   "metadata": {},
   "outputs": [
    {
     "name": "stdout",
     "output_type": "stream",
     "text": [
      " ******\n",
      "  *****\n",
      "   ****\n",
      "    ***\n",
      "     **\n",
      "      *\n",
      "       \n"
     ]
    }
   ],
   "source": [
    "for i in range(6,-1,-1):\n",
    "    print(f\"{'*'*i:>7}\")"
   ]
  },
  {
   "cell_type": "code",
   "execution_count": 64,
   "metadata": {},
   "outputs": [
    {
     "name": "stdout",
     "output_type": "stream",
     "text": [
      "          \n",
      "    *     \n",
      "   * *    \n",
      "  * * *   \n",
      " * * * *  \n",
      "* * * * * \n",
      " * * * *  \n",
      "  * * *   \n",
      "   * *    \n",
      "    *     \n"
     ]
    }
   ],
   "source": [
    "for i in range(6):\n",
    "    print(f\"{'* '*i:^10}\") \n",
    "for i in range(4,0,-1):\n",
    "    print(f\"{'* '*i:^10}\")"
   ]
  },
  {
   "cell_type": "code",
   "execution_count": 204,
   "metadata": {},
   "outputs": [
    {
     "name": "stdout",
     "output_type": "stream",
     "text": [
      "  *  \n",
      " * * \n",
      "*   *\n",
      "    *\n",
      "*  * \n",
      " **  \n"
     ]
    }
   ],
   "source": [
    "n=6\n",
    "for i in range(n):\n",
    "    for j in range(1,n):\n",
    "        if( (i+j)==n/2 or j==(i+n/2) or i==(j+n/2) or i+j==(n+n/2-1)):\n",
    "            print('*',end='')\n",
    "        else:\n",
    "            print(' ',end='')\n",
    "    print()"
   ]
  },
  {
   "cell_type": "code",
   "execution_count": 26,
   "metadata": {},
   "outputs": [
    {
     "name": "stdout",
     "output_type": "stream",
     "text": [
      "  fname   \n",
      "  lanme   \n",
      "   pay    \n"
     ]
    }
   ],
   "source": [
    "columns=['fname','lanme','pay']\n",
    "for col in columns:\n",
    "    print(f\"{col:^10}\")"
   ]
  },
  {
   "cell_type": "code",
   "execution_count": 28,
   "metadata": {},
   "outputs": [
    {
     "name": "stdout",
     "output_type": "stream",
     "text": [
      "fname     lanme     pay       "
     ]
    }
   ],
   "source": [
    "columns=['fname','lanme','pay']\n",
    "for col in columns:\n",
    "    print(f\"{col:<10}\",end='')"
   ]
  },
  {
   "cell_type": "code",
   "execution_count": 15,
   "metadata": {},
   "outputs": [
    {
     "name": "stdout",
     "output_type": "stream",
     "text": [
      "\n",
      "1\n",
      "12\n",
      "123\n",
      "1234\n",
      "12345\n"
     ]
    }
   ],
   "source": [
    "for i in range(1,7):\n",
    "    for j in range(1,i):\n",
    "        print(f\"{j:}\",end='') \n",
    "    print()"
   ]
  },
  {
   "cell_type": "code",
   "execution_count": 18,
   "metadata": {},
   "outputs": [
    {
     "name": "stdout",
     "output_type": "stream",
     "text": [
      "1     \n",
      "12    \n",
      "123   \n",
      "1234  \n",
      "12345 \n"
     ]
    }
   ],
   "source": [
    "pat=''\n",
    "for i in range(1,6):\n",
    "    pat+=str(i)\n",
    "    print(f\"{pat:<6}\")"
   ]
  },
  {
   "cell_type": "code",
   "execution_count": 45,
   "metadata": {},
   "outputs": [
    {
     "name": "stdout",
     "output_type": "stream",
     "text": [
      "     1    \n",
      "    1 2   \n",
      "   1 2 3  \n",
      "  1 2 3 4 \n",
      " 1 2 3 4 5\n"
     ]
    }
   ],
   "source": [
    "pat=''\n",
    "for i in range(1,6):\n",
    "    pat+=' '+str(i)\n",
    "    print(f\"{pat:^10}\")"
   ]
  },
  {
   "cell_type": "code",
   "execution_count": 20,
   "metadata": {},
   "outputs": [
    {
     "name": "stdout",
     "output_type": "stream",
     "text": [
      "      6     \n",
      "     6 5    \n",
      "    6 5 4   \n",
      "   6 5 4 3  \n",
      "  6 5 4 3 2 \n",
      " 6 5 4 3 2 1\n"
     ]
    }
   ],
   "source": [
    "pat=''\n",
    "for i in range(6,0,-1):\n",
    "    pat+=' '+str(i)\n",
    "    print(f\"{pat:^12}\")"
   ]
  },
  {
   "cell_type": "code",
   "execution_count": 25,
   "metadata": {},
   "outputs": [
    {
     "name": "stdout",
     "output_type": "stream",
     "text": [
      "2\n"
     ]
    }
   ],
   "source": [
    "def count_word(word):\n",
    "    _count=0\n",
    "    with open('lines.txt.txt') as f:\n",
    "        for line in f:\n",
    "            if word in line:\n",
    "                _count+=1\n",
    "    print(_count)\n",
    "count_word(\"g\")"
   ]
  },
  {
   "cell_type": "code",
   "execution_count": 26,
   "metadata": {},
   "outputs": [
    {
     "name": "stdout",
     "output_type": "stream",
     "text": [
      "['gybjg', 'jgbugh', 'jgjmg', 'gkugumg', 'iuguuhkn']\n",
      "['jgjmg', 'gkugumg', 'iuguuhkn', 'gybjg', 'jgbugh']\n"
     ]
    }
   ],
   "source": [
    "l=[]\n",
    "names=['gybjg','jgbugh','jgjmg','gkugumg','iuguuhkn']\n",
    "def rotate(names,n):\n",
    "    l=names\n",
    "    for i in range(n):\n",
    "        l.insert(0,names[-1])\n",
    "        l.pop()\n",
    "    print(l)\n",
    "rotate(names,3)"
   ]
  },
  {
   "cell_type": "code",
   "execution_count": 27,
   "metadata": {},
   "outputs": [
    {
     "name": "stdout",
     "output_type": "stream",
     "text": [
      "['H', 'e', 'l', 'l', 'o', ' ', 'w', 'o', 'r', 'l', 'd']\n",
      "orldHello w\n"
     ]
    }
   ],
   "source": [
    "def rotate_string(names,n):\n",
    "    temp=list(names)\n",
    "    for _ in range(n):\n",
    "        var=temp.pop()\n",
    "        temp.insert(0,var)\n",
    "    print(''.join(temp))\n",
    "rotate_string('Hello world',4)"
   ]
  },
  {
   "cell_type": "code",
   "execution_count": 108,
   "metadata": {},
   "outputs": [
    {
     "name": "stdout",
     "output_type": "stream",
     "text": [
      "world welcome to python Hello\n"
     ]
    }
   ],
   "source": [
    "sentence =\"Hello world welcome to python\"\n",
    "def rotate_string(names,n):\n",
    "    l=names.split()\n",
    "    for i in range(n):\n",
    "        temp=l.pop()\n",
    "        l.insert(0,temp)\n",
    "    print(' '.join(l))\n",
    "rotate_string(sentence,4)\n"
   ]
  },
  {
   "cell_type": "code",
   "execution_count": 114,
   "metadata": {},
   "outputs": [
    {
     "name": "stdout",
     "output_type": "stream",
     "text": [
      "he wrd"
     ]
    }
   ],
   "source": [
    "s='hello world'\n",
    "for i in s:\n",
    "    if(s.count(i)<2):\n",
    "        print(i,end='')"
   ]
  },
  {
   "cell_type": "code",
   "execution_count": 115,
   "metadata": {},
   "outputs": [
    {
     "name": "stdout",
     "output_type": "stream",
     "text": [
      "hll wrld"
     ]
    }
   ],
   "source": [
    "for i in s:\n",
    "    if i not in 'aeiou':\n",
    "        print(i,end='')"
   ]
  },
  {
   "cell_type": "code",
   "execution_count": 117,
   "metadata": {},
   "outputs": [
    {
     "name": "stdout",
     "output_type": "stream",
     "text": [
      "uuuvhkhug\n",
      "\n",
      "fjfgjjfjfghd\n",
      "\n",
      "fh\n",
      "\n",
      "fh    df\n",
      "\n",
      "hd   f\n",
      "\n",
      "hdf\n",
      "\n",
      "\n",
      "\n",
      "\n",
      "\n",
      "hfd\n",
      "\n",
      "h\n",
      "\n",
      "df\n"
     ]
    }
   ],
   "source": [
    "with open('lines.txt.txt') as f:\n",
    "    for line in f:\n",
    "        if '#' not in line:\n",
    "            print(line)"
   ]
  },
  {
   "cell_type": "code",
   "execution_count": 124,
   "metadata": {},
   "outputs": [
    {
     "name": "stdout",
     "output_type": "stream",
     "text": [
      "# uuuvhkhug\n",
      "\n",
      "#  hdf\n",
      "\n"
     ]
    }
   ],
   "source": [
    "with open('lines.txt.txt') as f:\n",
    "    for line in f:\n",
    "        if line.strip():\n",
    "            if line.strip().startswith('#'):\n",
    "                print(line)"
   ]
  },
  {
   "cell_type": "code",
   "execution_count": 126,
   "metadata": {},
   "outputs": [
    {
     "name": "stdout",
     "output_type": "stream",
     "text": [
      "fjfgjjfjfghd\n",
      "\n",
      "fh\n",
      "\n",
      "fh    df\n",
      "\n",
      "hd   f\n",
      "\n",
      "hfd\n",
      "\n",
      "h\n",
      "\n",
      "df\n"
     ]
    }
   ],
   "source": [
    "with open('lines.txt.txt') as f:\n",
    "    for line in f:\n",
    "        if line.strip():\n",
    "            if not line.strip().startswith('#'):\n",
    "                print(line)"
   ]
  },
  {
   "cell_type": "code",
   "execution_count": 132,
   "metadata": {},
   "outputs": [
    {
     "name": "stdout",
     "output_type": "stream",
     "text": [
      "defaultdict(<class 'int'>, {'H': 1, 'O': 1, 'W': 1, 'D': 1})\n"
     ]
    }
   ],
   "source": [
    "from collections import defaultdict\n",
    "d=defaultdict(int)\n",
    "_count=0\n",
    "s='HellO WorlD'\n",
    "for c in s:\n",
    "    if ord(c)>=65 and ord(c)<=90:\n",
    "        d[c]+=1\n",
    "print(d)"
   ]
  },
  {
   "cell_type": "code",
   "execution_count": 140,
   "metadata": {},
   "outputs": [
    {
     "name": "stdout",
     "output_type": "stream",
     "text": [
      "*\n",
      "**\n",
      "*\n",
      "***\n",
      "*\n",
      "****\n",
      "*\n",
      "*****\n",
      "*\n",
      "******\n"
     ]
    }
   ],
   "source": [
    "for i in range(2,7):\n",
    "    print('*')\n",
    "    print(f\"{'*'*i}\")"
   ]
  },
  {
   "cell_type": "code",
   "execution_count": 147,
   "metadata": {},
   "outputs": [
    {
     "name": "stdout",
     "output_type": "stream",
     "text": [
      "[1, 2]\n",
      "[3, 4]\n",
      "[5, 6]\n",
      "[7, 8]\n",
      "[9]\n"
     ]
    }
   ],
   "source": [
    "a=[1,2,3,4,5,6,7,8,9]\n",
    "for i in range(0,len(a),2):\n",
    "    print(a[i:i+2])"
   ]
  },
  {
   "cell_type": "code",
   "execution_count": 163,
   "metadata": {},
   "outputs": [
    {
     "name": "stdout",
     "output_type": "stream",
     "text": [
      "True\n"
     ]
    }
   ],
   "source": [
    "a=[10,12,14,16,18]\n",
    "b=[20,22,24,26,28]\n",
    "def _series(iter1,iter2):\n",
    "    diff=iter1[1]-iter1[0]\n",
    "    c=a+b;\n",
    "    for i in range(0,len(c)-1):\n",
    "        if c[i]+diff==c[i+1]:\n",
    "            continue\n",
    "        else:\n",
    "            return False\n",
    "    return True\n",
    "print(_series(a,b))"
   ]
  },
  {
   "cell_type": "code",
   "execution_count": 166,
   "metadata": {},
   "outputs": [
    {
     "name": "stdout",
     "output_type": "stream",
     "text": [
      "True\n"
     ]
    }
   ],
   "source": [
    "a=[10,12,14,16,18]\n",
    "b=[20,22,24,26,28]\n",
    "c=sorted(a+b)\n",
    "if(c[len(a):]==b):\n",
    "    print(\"True\")\n",
    "else:\n",
    "    print(\"false\")"
   ]
  },
  {
   "cell_type": "code",
   "execution_count": 167,
   "metadata": {},
   "outputs": [
    {
     "name": "stdout",
     "output_type": "stream",
     "text": [
      "l\n"
     ]
    }
   ],
   "source": [
    "s='hello world'\n",
    "for i in s:\n",
    "    if(s.count(i)>1):\n",
    "        print(i)\n",
    "        break"
   ]
  },
  {
   "cell_type": "code",
   "execution_count": 174,
   "metadata": {},
   "outputs": [
    {
     "name": "stdout",
     "output_type": "stream",
     "text": [
      "[1, 5, 9, 2, 8, 4, 6]\n"
     ]
    }
   ],
   "source": [
    "l=[2,1,5,8,4,6,9]\n",
    "new=[]\n",
    "for i in l:\n",
    "    if(i%2!=0):\n",
    "        new.append(i)\n",
    "for i in l:\n",
    "    if(i%2==0):\n",
    "        new.append(i)\n",
    "print(new)"
   ]
  },
  {
   "cell_type": "code",
   "execution_count": 183,
   "metadata": {},
   "outputs": [
    {
     "name": "stdout",
     "output_type": "stream",
     "text": [
      "[1, 5, 9, 2, 4, 6, 8]\n"
     ]
    }
   ],
   "source": [
    "evens=[i for i in l if i%2==0]\n",
    "odds=[i for i in l if i%2!=0]\n",
    "odds.sort()\n",
    "evens.sort()\n",
    "final=(odds+evens)\n",
    "print(final)"
   ]
  },
  {
   "cell_type": "code",
   "execution_count": 184,
   "metadata": {},
   "outputs": [
    {
     "name": "stdout",
     "output_type": "stream",
     "text": [
      "[1, 5, 9, 8, 6, 4, 2]\n"
     ]
    }
   ],
   "source": [
    "evens=[i for i in l if i%2==0]\n",
    "odds=[i for i in l if i%2!=0]\n",
    "odds.sort()\n",
    "evens.sort(reverse=True)\n",
    "final=(odds+evens)\n",
    "print(final)"
   ]
  },
  {
   "cell_type": "code",
   "execution_count": 190,
   "metadata": {},
   "outputs": [
    {
     "name": "stdout",
     "output_type": "stream",
     "text": [
      "defaultdict(<class 'int'>, {'y': 4, 'h': 3, 'g': 3, 'f': 1, 'u': 1, 'j': 2, 'b': 1, 'k': 2})\n"
     ]
    }
   ],
   "source": [
    "from collections import defaultdict\n",
    "d=defaultdict(int)\n",
    "s='@yhgf $yguy % jyg&bhhkjk'\n",
    "for i in s:\n",
    "    if i.isalnum():\n",
    "        d[i]+=1\n",
    "print(d)"
   ]
  },
  {
   "cell_type": "code",
   "execution_count": 193,
   "metadata": {},
   "outputs": [
    {
     "ename": "TypeError",
     "evalue": "object.__init__() takes exactly one argument (the instance to initialize)",
     "output_type": "error",
     "traceback": [
      "\u001b[1;31m---------------------------------------------------------------------------\u001b[0m",
      "\u001b[1;31mTypeError\u001b[0m                                 Traceback (most recent call last)",
      "\u001b[1;32m<ipython-input-193-708c425aad1b>\u001b[0m in \u001b[0;36m<module>\u001b[1;34m\u001b[0m\n\u001b[0;32m     10\u001b[0m         \u001b[0mself\u001b[0m\u001b[1;33m.\u001b[0m\u001b[0mb\u001b[0m\u001b[1;33m=\u001b[0m\u001b[0mb\u001b[0m\u001b[1;33m\u001b[0m\u001b[1;33m\u001b[0m\u001b[0m\n\u001b[0;32m     11\u001b[0m         \u001b[0msuper\u001b[0m\u001b[1;33m(\u001b[0m\u001b[1;33m)\u001b[0m\u001b[1;33m.\u001b[0m\u001b[0m__init__\u001b[0m\u001b[1;33m(\u001b[0m\u001b[0ma\u001b[0m\u001b[1;33m)\u001b[0m\u001b[1;33m\u001b[0m\u001b[1;33m\u001b[0m\u001b[0m\n\u001b[1;32m---> 12\u001b[1;33m \u001b[0mc\u001b[0m\u001b[1;33m=\u001b[0m\u001b[0mChild1\u001b[0m\u001b[1;33m(\u001b[0m\u001b[1;36m3\u001b[0m\u001b[1;33m,\u001b[0m\u001b[1;36m4\u001b[0m\u001b[1;33m)\u001b[0m\u001b[1;33m\u001b[0m\u001b[1;33m\u001b[0m\u001b[0m\n\u001b[0m",
      "\u001b[1;32m<ipython-input-193-708c425aad1b>\u001b[0m in \u001b[0;36m__init__\u001b[1;34m(self, a, b)\u001b[0m\n\u001b[0;32m      9\u001b[0m     \u001b[1;32mdef\u001b[0m \u001b[0m__init__\u001b[0m\u001b[1;33m(\u001b[0m\u001b[0mself\u001b[0m\u001b[1;33m,\u001b[0m\u001b[0ma\u001b[0m\u001b[1;33m,\u001b[0m\u001b[0mb\u001b[0m\u001b[1;33m)\u001b[0m\u001b[1;33m:\u001b[0m\u001b[1;33m\u001b[0m\u001b[1;33m\u001b[0m\u001b[0m\n\u001b[0;32m     10\u001b[0m         \u001b[0mself\u001b[0m\u001b[1;33m.\u001b[0m\u001b[0mb\u001b[0m\u001b[1;33m=\u001b[0m\u001b[0mb\u001b[0m\u001b[1;33m\u001b[0m\u001b[1;33m\u001b[0m\u001b[0m\n\u001b[1;32m---> 11\u001b[1;33m         \u001b[0msuper\u001b[0m\u001b[1;33m(\u001b[0m\u001b[1;33m)\u001b[0m\u001b[1;33m.\u001b[0m\u001b[0m__init__\u001b[0m\u001b[1;33m(\u001b[0m\u001b[0ma\u001b[0m\u001b[1;33m)\u001b[0m\u001b[1;33m\u001b[0m\u001b[1;33m\u001b[0m\u001b[0m\n\u001b[0m\u001b[0;32m     12\u001b[0m \u001b[0mc\u001b[0m\u001b[1;33m=\u001b[0m\u001b[0mChild1\u001b[0m\u001b[1;33m(\u001b[0m\u001b[1;36m3\u001b[0m\u001b[1;33m,\u001b[0m\u001b[1;36m4\u001b[0m\u001b[1;33m)\u001b[0m\u001b[1;33m\u001b[0m\u001b[1;33m\u001b[0m\u001b[0m\n",
      "\u001b[1;31mTypeError\u001b[0m: object.__init__() takes exactly one argument (the instance to initialize)"
     ]
    }
   ],
   "source": [
    "class Parent:\n",
    "    def __init__(self,a):\n",
    "        self.a=a\n",
    "    def apple(self):\n",
    "        print(\"PArent apple\")\n",
    "    def google(self):\n",
    "        print(\"parent googlt\")\n",
    "class Child1:\n",
    "    def __init__(self,a,b):\n",
    "        self.b=b\n",
    "        super().__init__(a)\n",
    "c=Child1(3,4)"
   ]
  },
  {
   "cell_type": "code",
   "execution_count": 200,
   "metadata": {},
   "outputs": [
    {
     "name": "stdout",
     "output_type": "stream",
     "text": [
      "800\n",
      "1250\n"
     ]
    }
   ],
   "source": [
    "class Employee:\n",
    "    def __init__(self, _id,name):\n",
    "        self._id=_id\n",
    "        self.name=name\n",
    "class WeeklyEmployee(Employee):\n",
    "    def __init__(self,_id,name,weeklysalary):\n",
    "        self.weeklysalary=weeklysalary\n",
    "        super().__init__(_id,name)\n",
    "    def calculate_pay(self):\n",
    "        return self.weeklysalary\n",
    "class HourlyEmployee(Employee):\n",
    "    def __init__(self,_id,name,hoursworked,hourlyrate):\n",
    "        self.hoursworked=hoursworked\n",
    "        self.hourlyrate=hourlyrate\n",
    "        super().__init__(_id,name)\n",
    "    def calculate_pay(self):\n",
    "        return self.hoursworked*self.hourlyrate\n",
    "\n",
    "e1=HourlyEmployee(1,'Steve',40,20)\n",
    "e2=WeeklyEmployee(2,'Bill',1250)\n",
    "\n",
    "print(e1.calculate_pay())\n",
    "print(e2.calculate_pay())"
   ]
  },
  {
   "cell_type": "code",
   "execution_count": null,
   "metadata": {},
   "outputs": [],
   "source": []
  }
 ],
 "metadata": {
  "kernelspec": {
   "display_name": "Python 3",
   "language": "python",
   "name": "python3"
  },
  "language_info": {
   "codemirror_mode": {
    "name": "ipython",
    "version": 3
   },
   "file_extension": ".py",
   "mimetype": "text/x-python",
   "name": "python",
   "nbconvert_exporter": "python",
   "pygments_lexer": "ipython3",
   "version": "3.7.6"
  }
 },
 "nbformat": 4,
 "nbformat_minor": 4
}
