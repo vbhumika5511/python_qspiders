{
 "cells": [
  {
   "cell_type": "markdown",
   "metadata": {},
   "source": [
    "# Class\n"
   ]
  },
  {
   "cell_type": "code",
   "execution_count": 15,
   "metadata": {},
   "outputs": [
    {
     "name": "stdout",
     "output_type": "stream",
     "text": [
      "{'fname': 'Steve', 'lname': 'Jobs', 'pay': 10000}\n",
      "{'fname': 'Bill', 'lname': 'gates', 'pay': 20000}\n",
      "Steve.Jobs@company.com\n",
      "Bill.gates@company.com\n",
      "11000.0\n",
      "30000.0\n"
     ]
    }
   ],
   "source": [
    "class Employee:\n",
    "    #constructor\n",
    "    def __init__(self,fname,lname,pay):\n",
    "        self.fname=fname\n",
    "        self.lname=lname\n",
    "        self.pay=pay\n",
    "    #returns email address of an employee\n",
    "    def email(self):\n",
    "        return f\"{self.fname}.{self.lname}@company.com\"\n",
    "    def hike(self,percentage):\n",
    "        self.pay=self.pay+(self.pay*percentage)\n",
    "        return self.pay\n",
    "\n",
    "e1=Employee(\"Steve\",\"Jobs\",10000)\n",
    "e2=Employee(\"Bill\",\"gates\",20000)\n",
    "\n",
    "print(e1.__dict__)\n",
    "print(e2.__dict__)\n",
    "\n",
    "print(Employee.email(e1))\n",
    "print(Employee.email(e2))\n",
    "print(Employee.hike(e1,0.1))\n",
    "print(Employee.hike(e2,0.5))\n",
    "\n",
    "        "
   ]
  },
  {
   "cell_type": "code",
   "execution_count": null,
   "metadata": {},
   "outputs": [],
   "source": [
    "class Company:\n",
    "    "
   ]
  }
 ],
 "metadata": {
  "kernelspec": {
   "display_name": "Python 3",
   "language": "python",
   "name": "python3"
  },
  "language_info": {
   "codemirror_mode": {
    "name": "ipython",
    "version": 3
   },
   "file_extension": ".py",
   "mimetype": "text/x-python",
   "name": "python",
   "nbconvert_exporter": "python",
   "pygments_lexer": "ipython3",
   "version": "3.7.6"
  }
 },
 "nbformat": 4,
 "nbformat_minor": 4
}
