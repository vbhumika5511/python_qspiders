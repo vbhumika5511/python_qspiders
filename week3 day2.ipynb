{
 "cells": [
  {
   "cell_type": "code",
   "execution_count": 1,
   "metadata": {},
   "outputs": [
    {
     "name": "stdout",
     "output_type": "stream",
     "text": [
      "<function greet at 0x000001A398011438>\n",
      "<function greet at 0x000001A398011438>\n",
      "Hello world\n",
      "None\n"
     ]
    },
    {
     "data": {
      "text/plain": [
       "1802141505144"
      ]
     },
     "execution_count": 1,
     "metadata": {},
     "output_type": "execute_result"
    }
   ],
   "source": [
    "def spam(something):\n",
    "    return something\n",
    "def greet():\n",
    "    print(\"Hello world\")\n",
    "\n",
    "a=spam(\"Hello\")\n",
    "a=spam(45.776)\n",
    "a=spam(17)\n",
    "a=spam(True)\n",
    "a=spam([1,2,3,4,5])\n",
    "a=spam((1,2,3,4,5))\n",
    "a=spam({'a':1,'b':2})\n",
    "a=spam(greet)\n",
    "print(a)\n",
    "print(greet)\n",
    "print(greet())\n",
    "id(spam)"
   ]
  },
  {
   "cell_type": "code",
   "execution_count": 2,
   "metadata": {},
   "outputs": [
    {
     "name": "stdout",
     "output_type": "stream",
     "text": [
      "Hello world\n"
     ]
    }
   ],
   "source": [
    "def spam(func):\n",
    "      return func()\n",
    "def greet():\n",
    "    print(\"Hello world\")\n",
    "    \n",
    "spam(greet)"
   ]
  },
  {
   "cell_type": "code",
   "execution_count": 3,
   "metadata": {},
   "outputs": [
    {
     "name": "stdout",
     "output_type": "stream",
     "text": [
      "{'a': 2, 'b': 3}\n",
      "()\n",
      "5\n",
      "3\n",
      "3\n",
      "3\n",
      "3\n"
     ]
    }
   ],
   "source": [
    "def spam(func,*args,**kwargs):                       #   *args takes any umber of positional arguments and is a tuple\n",
    "    print(kwargs)\n",
    "    print(args)\n",
    "    return func(*args,**kwargs)                       #   **kwargs takes any number of keyword arguments and it is a dictionary\n",
    "def greet():\n",
    "    print(\"Hello world\")\n",
    "def greeting(name):\n",
    "    print(f'Hello {name}')\n",
    "def add(a,b):\n",
    "    print(a+b)\n",
    "          \n",
    "spam(add,a=2,b=3)                                     # here we should know how many arguments we need to pass\n",
    "t=(1,2)\n",
    "d={'a':1,'b':2}\n",
    "add(*t)\n",
    "add(t[0],t[1])\n",
    "add(**d)\n",
    "add(d['a'],d['b'])"
   ]
  },
  {
   "cell_type": "code",
   "execution_count": 4,
   "metadata": {},
   "outputs": [
    {
     "name": "stdout",
     "output_type": "stream",
     "text": [
      "Hello bhumika\n"
     ]
    }
   ],
   "source": [
    "def spam(func ,name):\n",
    "    def wrapper(name):\n",
    "        return func(name)\n",
    "    return wrapper(name)\n",
    "\n",
    "def greet():\n",
    "    print(\"Hello world\")\n",
    "def greeting(name):\n",
    "    print(f'Hello {name}')\n",
    "def add(a,b):\n",
    "    print(a+b)\n",
    "    \n",
    "    \n",
    "spam(greeting,\"bhumika\")"
   ]
  },
  {
   "cell_type": "markdown",
   "metadata": {},
   "source": [
    "# Decorator"
   ]
  },
  {
   "cell_type": "markdown",
   "metadata": {},
   "source": [
    "## decorator is a function which adds an extra functionality to the existing function"
   ]
  },
  {
   "cell_type": "code",
   "execution_count": 5,
   "metadata": {},
   "outputs": [
    {
     "name": "stdout",
     "output_type": "stream",
     "text": [
      "3\n"
     ]
    }
   ],
   "source": [
    "def spam(func):\n",
    "    def wrapper(*args,**kwargs):\n",
    "        return func(*args,**kwargs)\n",
    "    return wrapper\n",
    "\n",
    "def greet():\n",
    "    print(\"Hello world\")\n",
    "def greeting(name):\n",
    "    print(f'Hello {name}')\n",
    "def add(a,b):\n",
    "    print(a+b)\n",
    "    \n",
    "    \n",
    "a=spam(add)\n",
    "a(1,2)"
   ]
  },
  {
   "cell_type": "code",
   "execution_count": 6,
   "metadata": {},
   "outputs": [
    {
     "name": "stdout",
     "output_type": "stream",
     "text": [
      "you called  greet\n",
      "Hello world\n",
      "you called  greeting\n",
      "Hello bhumika\n",
      "you called  add\n",
      "6\n"
     ]
    }
   ],
   "source": [
    "def log(func):\n",
    "    def wrapper(*args,**kwargs):\n",
    "        print(\"you called \",func.__name__)\n",
    "        return func(*args,**kwargs)\n",
    "    return wrapper\n",
    "\n",
    "def greet():\n",
    "    print(\"Hello world\")\n",
    "def greeting(name):\n",
    "    print(f'Hello {name}')\n",
    "def add(a,b):\n",
    "    print(a+b)\n",
    "    \n",
    "a=log(greet)    \n",
    "a()\n",
    "b=log(greeting)\n",
    "b(\"bhumika\")\n",
    "c=log(add)\n",
    "c(1,5)"
   ]
  },
  {
   "cell_type": "code",
   "execution_count": 7,
   "metadata": {},
   "outputs": [
    {
     "name": "stdout",
     "output_type": "stream",
     "text": [
      "you are calling  greet\n",
      "Hello world\n",
      "you are calling  greeting\n",
      "Hello bhumika\n",
      "you are calling  add\n",
      "4\n",
      "you are calling  sub\n",
      "2\n"
     ]
    }
   ],
   "source": [
    " def log(func):\n",
    "    def wrapper(*args,**kwargs):\n",
    "        print(\"you are calling \",func.__name__)\n",
    "        return func(*args,**kwargs)\n",
    "    return wrapper\n",
    "\n",
    "@log\n",
    "def greet():\n",
    "    print(\"Hello world\")\n",
    "@log\n",
    "def greeting(name):\n",
    "    print(f'Hello {name}')\n",
    "@log \n",
    "def add(a,b):\n",
    "    print(a+b)\n",
    "@log\n",
    "def sub(a,b):\n",
    "    print(a-b)\n",
    "    \n",
    "greet()\n",
    "greeting(\"bhumika\")\n",
    "add(1,3)\n",
    "sub(3,1)"
   ]
  },
  {
   "cell_type": "code",
   "execution_count": null,
   "metadata": {},
   "outputs": [],
   "source": [
    "import time\n",
    "def delay(func):\n",
    "    def wrapper(*args,**kwargs):\n",
    "        time.sleep(5)\n",
    "        return func(*args,**kwargs)\n",
    "    return wrapper\n",
    "\n",
    "@delay\n",
    "def greet():\n",
    "    print(\"Hello world\")\n",
    "@delay\n",
    "def greeting(name):\n",
    "    print(f'Hello {name}')\n",
    "@delay\n",
    "def add(a,b):\n",
    "    print(a+b)\n",
    "@delay\n",
    "def sub(a,b):\n",
    "    print(a-b)\n",
    "    \n",
    "greet()\n",
    "greeting(\"bhumika\")\n",
    "add(1,3)\n",
    "sub(3,1)"
   ]
  }
 ],
 "metadata": {
  "kernelspec": {
   "display_name": "Python 3",
   "language": "python",
   "name": "python3"
  },
  "language_info": {
   "codemirror_mode": {
    "name": "ipython",
    "version": 3
   },
   "file_extension": ".py",
   "mimetype": "text/x-python",
   "name": "python",
   "nbconvert_exporter": "python",
   "pygments_lexer": "ipython3",
   "version": "3.7.6"
  }
 },
 "nbformat": 4,
 "nbformat_minor": 4
}
