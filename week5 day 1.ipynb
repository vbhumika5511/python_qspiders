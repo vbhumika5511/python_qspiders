{
 "cells": [
  {
   "cell_type": "code",
   "execution_count": 11,
   "metadata": {},
   "outputs": [
    {
     "name": "stdout",
     "output_type": "stream",
     "text": [
      "{'google': 6, 'flipkart': 8, 'facebook': 8, 'amazon': 6}\n"
     ]
    }
   ],
   "source": [
    "names = ['apple', 'yahoo', 'google', 'gmail', 'walmart', 'flipkart', 'facebook', 'amazon']\n",
    "l={name: len(name)   for  name in names if len(name)%2==0}\n",
    "print(l)"
   ]
  },
  {
   "cell_type": "code",
   "execution_count": 12,
   "metadata": {},
   "outputs": [
    {
     "name": "stdout",
     "output_type": "stream",
     "text": [
      "{'google': 6, 'flipkart': 8, 'facebook': 8, 'amazon': 6}\n"
     ]
    }
   ],
   "source": [
    "names = ['apple', 'yahoo', 'google', 'gmail', 'walmart', 'flipkart', 'facebook', 'amazon']\n",
    "l={name: len(name)   for  name in names if len(name)%2==0}\n",
    "print(l)"
   ]
  },
  {
   "cell_type": "code",
   "execution_count": 17,
   "metadata": {},
   "outputs": [
    {
     "name": "stdout",
     "output_type": "stream",
     "text": [
      "1\n",
      "4\n",
      "9\n",
      "16\n"
     ]
    }
   ],
   "source": [
    "def square(l):\n",
    "    return l**2\n",
    "l=[1,2,3,4]\n",
    "squares = map(square,l)\n",
    "for item in squares:\n",
    "    print(item)"
   ]
  },
  {
   "cell_type": "code",
   "execution_count": 25,
   "metadata": {},
   "outputs": [
    {
     "name": "stdout",
     "output_type": "stream",
     "text": [
      "1 uuuvhkhug\n",
      "\n",
      "2 fjfgjjfjfghd\n",
      "\n",
      "3 fh\n",
      "\n",
      "4 fhdf\n",
      "\n",
      "5 hdf\n",
      "\n",
      "6 hdf\n",
      "\n",
      "7 hfd\n",
      "\n",
      "8 h\n",
      "\n",
      "9 df\n"
     ]
    }
   ],
   "source": [
    "## count the number of lines in a file without loading the entire into memory\n",
    "\n",
    "with open('lines.txt.txt') as f:\n",
    "    _count=0\n",
    "    for line in f:\n",
    "        _count+=1\n",
    "        print(_count,line)\n"
   ]
  },
  {
   "cell_type": "code",
   "execution_count": 26,
   "metadata": {},
   "outputs": [
    {
     "name": "stdout",
     "output_type": "stream",
     "text": [
      "1 uuuvhkhug\n",
      "\n",
      "2 fjfgjjfjfghd\n",
      "\n",
      "3 fh\n",
      "\n",
      "4 fhdf\n",
      "\n",
      "5 hdf\n",
      "\n",
      "6 hdf\n",
      "\n",
      "7 hfd\n",
      "\n",
      "8 h\n",
      "\n",
      "9 df\n"
     ]
    }
   ],
   "source": [
    "with open('lines.txt.txt') as f:\n",
    "    for index , line in enumerate(f,start=1):\n",
    "        print(index,line)"
   ]
  },
  {
   "cell_type": "code",
   "execution_count": 38,
   "metadata": {},
   "outputs": [
    {
     "name": "stdout",
     "output_type": "stream",
     "text": [
      "[6, 15, 24]\n"
     ]
    }
   ],
   "source": [
    "l=[[1,2,3],[4,5,6],[7,8,9]]\n",
    "k=[]\n",
    "sum=0\n",
    "for i in l:\n",
    "    for j in i:\n",
    "        sum+=j\n",
    "    k.append(sum)\n",
    "    sum=0\n",
    "print(k)"
   ]
  },
  {
   "cell_type": "code",
   "execution_count": 1,
   "metadata": {},
   "outputs": [],
   "source": [
    "l=[[1,2,3],[4,5,6],[7,8,9]]\n",
    "sum_list = [sum(item) for item in l]"
   ]
  },
  {
   "cell_type": "code",
   "execution_count": 50,
   "metadata": {},
   "outputs": [
    {
     "name": "stdout",
     "output_type": "stream",
     "text": [
      "['nozama', 'koobecaf', 'trakpilf', 'tramlaw', 'liamg', 'elgoog', 'oohay', 'elppa']\n"
     ]
    }
   ],
   "source": [
    "## write a program to reverse the list\n",
    "names = ['apple', 'yahoo', 'google', 'gmail', 'walmart', 'flipkart', 'facebook', 'amazon']\n",
    "new=[]\n",
    "for item in names:\n",
    "    new.append(item[::-1])\n",
    "new.reverse()\n",
    "print(new)"
   ]
  },
  {
   "cell_type": "code",
   "execution_count": 52,
   "metadata": {},
   "outputs": [
    {
     "name": "stdout",
     "output_type": "stream",
     "text": [
      "['nozama', 'koobecaf', 'trakpilf', 'tramlaw', 'liamg', 'elgoog', 'oohay', 'elppa']\n"
     ]
    }
   ],
   "source": [
    "new=[ item[::-1] for item  in names[::-1]]\n",
    "print(new)"
   ]
  },
  {
   "cell_type": "code",
   "execution_count": 54,
   "metadata": {},
   "outputs": [
    {
     "name": "stdout",
     "output_type": "stream",
     "text": [
      "['nozama', 'koobecaf', 'trakpilf', 'tramlaw', 'liamg', 'elgoog', 'oohay', 'elppa']\n"
     ]
    }
   ],
   "source": [
    "new=[ item[::-1] for item  in reversed(names)]\n",
    "print(new)"
   ]
  },
  {
   "cell_type": "code",
   "execution_count": 56,
   "metadata": {},
   "outputs": [
    {
     "name": "stdout",
     "output_type": "stream",
     "text": [
      "['nozama', 'koobecaf', 'trakpilf', 'tramlaw', 'liamg', 'elgoog', 'oohay', 'elppa']\n"
     ]
    }
   ],
   "source": [
    "new=[ names[item][::-1] for item  in range(len(names)-1,-1,-1)]\n",
    "print(new)"
   ]
  },
  {
   "cell_type": "code",
   "execution_count": 64,
   "metadata": {},
   "outputs": [
    {
     "name": "stdout",
     "output_type": "stream",
     "text": [
      "{'a': 100, 'b': {'m': 'man', 'n': 'net'}}\n"
     ]
    }
   ],
   "source": [
    "d={'a':100,'b':{'m':'man','n':'nose'}}\n",
    "d['b']['n']='net'\n",
    "print(d)"
   ]
  },
  {
   "cell_type": "code",
   "execution_count": 5,
   "metadata": {},
   "outputs": [
    {
     "name": "stdout",
     "output_type": "stream",
     "text": [
      "10\n"
     ]
    }
   ],
   "source": [
    "with open('lines.txt.txt') as f:\n",
    "    _count=0\n",
    "    for line in f:\n",
    "        for space in line:\n",
    "            if(space==' '):\n",
    "                _count+=1\n",
    "print(_count)"
   ]
  },
  {
   "cell_type": "code",
   "execution_count": 4,
   "metadata": {},
   "outputs": [
    {
     "name": "stdout",
     "output_type": "stream",
     "text": [
      "10\n"
     ]
    }
   ],
   "source": [
    "with open('lines.txt.txt') as f:\n",
    "    spaces=0\n",
    "    for line in f:\n",
    "        count=line.count(' ')\n",
    "        spaces+=count\n",
    "print(spaces)"
   ]
  },
  {
   "cell_type": "code",
   "execution_count": 102,
   "metadata": {},
   "outputs": [
    {
     "name": "stdout",
     "output_type": "stream",
     "text": [
      "defaultdict(<class 'list'>, {'aet': ['eat', 'ate'], 'ehllo': ['hello'], 'eilnst': ['silent', 'listen']})\n"
     ]
    }
   ],
   "source": [
    "from collections import defaultdict\n",
    "words=['eat','ate','hello','silent','listen']\n",
    "d=defaultdict(list)\n",
    "for word in words:\n",
    "    temp=''.join(sorted(word))\n",
    "    d[temp].append(word)\n",
    "print(d)"
   ]
  },
  {
   "cell_type": "code",
   "execution_count": 106,
   "metadata": {},
   "outputs": [
    {
     "name": "stdout",
     "output_type": "stream",
     "text": [
      "[2, 4, 6, 8, 10, 12, 14, 16, 18, 20, 22, 24, 26, 28, 30, 32, 34, 36, 38, 40, 42, 44, 46, 48, 50]\n"
     ]
    }
   ],
   "source": [
    "l=[i for i in range(2,51,2)]\n",
    "print(l)"
   ]
  },
  {
   "cell_type": "code",
   "execution_count": 112,
   "metadata": {},
   "outputs": [
    {
     "name": "stdout",
     "output_type": "stream",
     "text": [
      "<filter object at 0x000002038DAADD48>\n"
     ]
    }
   ],
   "source": [
    "evens=filter(lambda item: item%2==0,list(range(0,51)))\n",
    "print(evens)"
   ]
  },
  {
   "cell_type": "code",
   "execution_count": 143,
   "metadata": {},
   "outputs": [
    {
     "name": "stdout",
     "output_type": "stream",
     "text": [
      "language\n",
      "('language', 8)\n"
     ]
    }
   ],
   "source": [
    "# write a program to print the longest word which is not repeated\n",
    "sentence=\"This is a programming language and programming is fun\"\n",
    "words=sentence.split()\n",
    "d={ word : len(word) for word in words if words.count(word)==1 }\n",
    "print(max(d))\n",
    "sorted_words= sorted(d.items(),key=lambda item: item[-1])\n",
    "print(sorted_words[-1])"
   ]
  },
  {
   "cell_type": "code",
   "execution_count": 149,
   "metadata": {},
   "outputs": [
    {
     "name": "stdout",
     "output_type": "stream",
     "text": [
      "{'yahoo', 'gmail', 'facebook', 'walmart', 'amazon', 'google', 'apple', 'flipkart'}\n",
      "2 gmail\n",
      "2 apple\n"
     ]
    }
   ],
   "source": [
    "names = ['apple', 'yahoo', 'google','apple', 'gmail', 'walmart','gmail', 'flipkart', 'facebook', 'amazon']\n",
    "unique=set(names)\n",
    "print(unique)\n",
    "for item in unique:\n",
    "    _count=0\n",
    "    for name in names:\n",
    "        if item==name:\n",
    "            _count+=1\n",
    "    if(_count>1):\n",
    "        print(_count,item)"
   ]
  },
  {
   "cell_type": "code",
   "execution_count": 161,
   "metadata": {},
   "outputs": [
    {
     "name": "stdout",
     "output_type": "stream",
     "text": [
      "prime\n"
     ]
    }
   ],
   "source": [
    "def is_prime(n):\n",
    "    countp=0\n",
    "    for i in range(2,n):\n",
    "        if(n%i==0):\n",
    "            countp+=1\n",
    "    if(countp>1):\n",
    "        print(\"Non prime\")\n",
    "    else:\n",
    "        print(\"prime\")\n",
    "is_prime(13)      "
   ]
  },
  {
   "cell_type": "code",
   "execution_count": 163,
   "metadata": {},
   "outputs": [
    {
     "name": "stdout",
     "output_type": "stream",
     "text": [
      "False\n"
     ]
    }
   ],
   "source": [
    "def is_prime(n):\n",
    "    countp=0\n",
    "    for i in range(2,n):\n",
    "        if(n%i!=0):\n",
    "            continue\n",
    "        else:\n",
    "            return False\n",
    "    return True\n",
    "print(is_prime(10))"
   ]
  },
  {
   "cell_type": "code",
   "execution_count": 165,
   "metadata": {},
   "outputs": [
    {
     "data": {
      "text/plain": [
       "True"
      ]
     },
     "execution_count": 165,
     "metadata": {},
     "output_type": "execute_result"
    }
   ],
   "source": [
    "any([True,True,False,True,False])## If any 1 value is true it evaluats to true"
   ]
  },
  {
   "cell_type": "code",
   "execution_count": 168,
   "metadata": {},
   "outputs": [
    {
     "data": {
      "text/plain": [
       "False"
      ]
     },
     "execution_count": 168,
     "metadata": {},
     "output_type": "execute_result"
    }
   ],
   "source": [
    "any([False,False,False,False])"
   ]
  },
  {
   "cell_type": "code",
   "execution_count": 169,
   "metadata": {},
   "outputs": [
    {
     "data": {
      "text/plain": [
       "True"
      ]
     },
     "execution_count": 169,
     "metadata": {},
     "output_type": "execute_result"
    }
   ],
   "source": [
    "any([False,0,'Bhumika',{},[]])"
   ]
  },
  {
   "cell_type": "code",
   "execution_count": 171,
   "metadata": {},
   "outputs": [
    {
     "data": {
      "text/plain": [
       "True"
      ]
     },
     "execution_count": 171,
     "metadata": {},
     "output_type": "execute_result"
    }
   ],
   "source": [
    "all([True,True,True])           ## if all the value evaluates to true only then it evaluates to true"
   ]
  },
  {
   "cell_type": "code",
   "execution_count": 173,
   "metadata": {},
   "outputs": [
    {
     "data": {
      "text/plain": [
       "False"
      ]
     },
     "execution_count": 173,
     "metadata": {},
     "output_type": "execute_result"
    }
   ],
   "source": [
    "all([False,True])"
   ]
  },
  {
   "cell_type": "code",
   "execution_count": 9,
   "metadata": {},
   "outputs": [
    {
     "data": {
      "text/plain": [
       "False"
      ]
     },
     "execution_count": 9,
     "metadata": {},
     "output_type": "execute_result"
    }
   ],
   "source": [
    "def is_prime(n):\n",
    "    l=[n%i for i in range(2,n)]\n",
    "any([is_prime(10)])"
   ]
  },
  {
   "cell_type": "code",
   "execution_count": 182,
   "metadata": {},
   "outputs": [
    {
     "name": "stdout",
     "output_type": "stream",
     "text": [
      "70\n"
     ]
    }
   ],
   "source": [
    "numbers=[10,90,20,30,40,70]\n",
    "temp=0\n",
    "for i in numbers:\n",
    "    continue\n",
    "print(i)"
   ]
  },
  {
   "cell_type": "code",
   "execution_count": 185,
   "metadata": {},
   "outputs": [
    {
     "name": "stdout",
     "output_type": "stream",
     "text": [
      "9\n"
     ]
    }
   ],
   "source": [
    "## program to print last integer\n",
    "def last_d(i):\n",
    "    return str(i)[-1]\n",
    "print(last_d(31469))"
   ]
  },
  {
   "cell_type": "code",
   "execution_count": 186,
   "metadata": {},
   "outputs": [
    {
     "name": "stdout",
     "output_type": "stream",
     "text": [
      "9\n"
     ]
    }
   ],
   "source": [
    "def last_d(i):\n",
    "    n=i%10\n",
    "    return n\n",
    "print(last_d(31469))"
   ]
  },
  {
   "cell_type": "code",
   "execution_count": 14,
   "metadata": {},
   "outputs": [
    {
     "data": {
      "text/plain": [
       "[('look', 3), ('into', 3), ('my', 1)]"
      ]
     },
     "execution_count": 14,
     "metadata": {},
     "output_type": "execute_result"
    }
   ],
   "source": [
    "from collections import Counter\n",
    "words=['look','into','into','into','my','eyes','look','look']\n",
    "c=Counter(words)\n",
    "c.most_common(1)\n",
    "c.most_common(3)"
   ]
  },
  {
   "cell_type": "code",
   "execution_count": 203,
   "metadata": {},
   "outputs": [
    {
     "data": {
      "text/plain": [
       "[3, 4, 5]"
      ]
     },
     "execution_count": 203,
     "metadata": {},
     "output_type": "execute_result"
    }
   ],
   "source": [
    "def tail(iterable,n):\n",
    "    return  iterable[-n:]\n",
    "tail([1,2,3,4,5],3)"
   ]
  },
  {
   "cell_type": "code",
   "execution_count": 204,
   "metadata": {},
   "outputs": [
    {
     "data": {
      "text/plain": [
       "[3, 4, 5]"
      ]
     },
     "execution_count": 204,
     "metadata": {},
     "output_type": "execute_result"
    }
   ],
   "source": [
    "def tail(iterable,n):\n",
    "    return  iterable[len(iterable)-n:]\n",
    "tail([1,2,3,4,5],3)\n"
   ]
  },
  {
   "cell_type": "code",
   "execution_count": 205,
   "metadata": {},
   "outputs": [
    {
     "data": {
      "text/plain": [
       "[3, 4, 5]"
      ]
     },
     "execution_count": 205,
     "metadata": {},
     "output_type": "execute_result"
    }
   ],
   "source": [
    "def tail(iterable,n):\n",
    "    from collections import deque\n",
    "    d=deque(iterable,maxlen=n)\n",
    "    return list(d)\n",
    "tail([1,2,3,4,5],3)"
   ]
  },
  {
   "cell_type": "code",
   "execution_count": 214,
   "metadata": {},
   "outputs": [
    {
     "name": "stdout",
     "output_type": "stream",
     "text": [
      "True\n"
     ]
    }
   ],
   "source": [
    "from math import sqrt\n",
    "def is_perfect_square(n):\n",
    "    return n==sqrt(n)**2\n",
    "print(is_perfect_square(4))\n",
    "    "
   ]
  },
  {
   "cell_type": "code",
   "execution_count": null,
   "metadata": {},
   "outputs": [],
   "source": []
  }
 ],
 "metadata": {
  "kernelspec": {
   "display_name": "Python 3",
   "language": "python",
   "name": "python3"
  },
  "language_info": {
   "codemirror_mode": {
    "name": "ipython",
    "version": 3
   },
   "file_extension": ".py",
   "mimetype": "text/x-python",
   "name": "python",
   "nbconvert_exporter": "python",
   "pygments_lexer": "ipython3",
   "version": "3.7.6"
  }
 },
 "nbformat": 4,
 "nbformat_minor": 4
}
