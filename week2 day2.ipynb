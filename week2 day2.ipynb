{
 "cells": [
  {
   "cell_type": "code",
   "execution_count": 3,
   "metadata": {},
   "outputs": [
    {
     "name": "stdout",
     "output_type": "stream",
     "text": [
      "hello world\n"
     ]
    }
   ],
   "source": [
    "# if no return statement it returns None\n",
    "def greet():\n",
    "    print('hello world')\n",
    "greet()"
   ]
  },
  {
   "cell_type": "code",
   "execution_count": 68,
   "metadata": {},
   "outputs": [
    {
     "name": "stdout",
     "output_type": "stream",
     "text": [
      "<function greet at 0x0000020FEC9BE288>\n"
     ]
    }
   ],
   "source": [
    "def greet():\n",
    "    print('hello world')\n",
    "print(greet)"
   ]
  },
  {
   "cell_type": "code",
   "execution_count": 69,
   "metadata": {},
   "outputs": [
    {
     "name": "stdout",
     "output_type": "stream",
     "text": [
      "hello world\n",
      "None\n"
     ]
    }
   ],
   "source": [
    "def greet():\n",
    "    print('hello world')\n",
    "print(greet())"
   ]
  },
  {
   "cell_type": "code",
   "execution_count": 70,
   "metadata": {},
   "outputs": [
    {
     "name": "stdout",
     "output_type": "stream",
     "text": [
      "Hello bhumika you are 20 years of age and you have 1000 pay\n",
      "Hello bhumik you are 20 years of age and you have 1000 pay\n",
      "Hello Bhumi you are 20 years of age and you have 1000 pay\n",
      "hi\n",
      "Hello bhu you are 20 years of age and you have 1000 pay\n"
     ]
    }
   ],
   "source": [
    "def greet():\n",
    "    print('hello world')\n",
    "    \n",
    "def greeting( name,age,pay):\n",
    "    print(f'Hello {name} you are {age} years of age and you have {pay } pay')\n",
    "\n",
    "greeting(\"bhumika\",20,1000)                      # passing parametrs using position arguments\n",
    "greeting(name=\"bhumik\",pay=1000,age=20)         # keyword argument\n",
    "greeting(\"Bhumi\",age=20,pay=1000)\n",
    "\n",
    "\n",
    "# invalid positional argument should follow keyword\n",
    "#greeting(\"Bhumika\",age=20,1000)                  \n",
    "\n",
    "def greetings( name,*,age,pay):      # after star the paramaters should be passed by keyword \n",
    "    print(\"hi\")\n",
    "greetings(\"Bhumi\",age=20,pay=1000)                  \n",
    "\n",
    "def greetingss( name=\"bhu\",age=20,pay=1000): \n",
    "    print(f'Hello {name} you are {age} years of age and you have {pay } pay')\n",
    "greetingss()\n"
   ]
  },
  {
   "cell_type": "code",
   "execution_count": 38,
   "metadata": {},
   "outputs": [
    {
     "name": "stdout",
     "output_type": "stream",
     "text": [
      "Hello bhu you are 20 years of age and you have 1000 pay\n",
      "Hello bhu you are bhumika years of age and you have 1000 pay\n"
     ]
    }
   ],
   "source": [
    "def greetingss( name=\"bhu\",age=20,pay=1000): \n",
    "    print(f'Hello {name} you are {age} years of age and you have {pay } pay')\n",
    "greetingss()\n",
    "greetingss\n",
    "(age=\"bhumika\")"
   ]
  },
  {
   "cell_type": "code",
   "execution_count": 43,
   "metadata": {},
   "outputs": [
    {
     "name": "stdout",
     "output_type": "stream",
     "text": [
      "Hello spam\n"
     ]
    }
   ],
   "source": [
    "def spam(debug=True):\n",
    "    if debug:\n",
    "        print('you are calling spam')\n",
    "    print('Hello spam')\n",
    "    \n",
    "spam(debug=False)"
   ]
  },
  {
   "cell_type": "markdown",
   "metadata": {},
   "source": [
    "##### positionaland keyword arguments\n",
    "##### keyword arguments should always come after positional arguments\n",
    "##### keyword only argument (after *   all the arguments must be keyword only)\n",
    "##### positinal only argument ( before / all the arguments must be positional only)\n",
    "##### arguments with default values(Optional argument)"
   ]
  },
  {
   "cell_type": "code",
   "execution_count": 47,
   "metadata": {},
   "outputs": [
    {
     "name": "stdout",
     "output_type": "stream",
     "text": [
      "(1, 2)\n",
      "(1, 2, 3)\n",
      "(1, 2, 3, 4)\n",
      "(1, 2, 3, 4, 5)\n"
     ]
    }
   ],
   "source": [
    "def  add(*args):     #  * args means it will take variable number of POSITIONAL arguments\n",
    "    print(args)      # it can me named as * args , *a,  ,* b , * variable name\n",
    "                     # args is TUPLE \n",
    "add(1,2)\n",
    "add(1,2,3)\n",
    "add(1,2,3,4)\n",
    "add(1,2,3,4,5)\n",
    "def add(**kwargs):             # takes variable number of KEYWORD Arguments\n",
    "                          # it is collected inside a DICTIONARY"
   ]
  },
  {
   "cell_type": "code",
   "execution_count": 1,
   "metadata": {},
   "outputs": [
    {
     "name": "stdout",
     "output_type": "stream",
     "text": [
      "Hello Bhumika you are 20 years of age and you have 20000 pay\n",
      "Hello Bhumika you are 20 years of age and you have 20000 pay\n",
      "Hello Bhumika you are 20 years of age and you have 2000 pay\n"
     ]
    }
   ],
   "source": [
    "def greeting( name,age,pay):\n",
    "    print(f'Hello {name} you are {age} years of age and you have {pay } pay')\n",
    "list1=[\"Bhumika\",20,20000]\n",
    "dictio={\"name\":\"Bhumika\",\"age\":20,\"pay\":2000}\n",
    "greeting(list1[0],list1[1],list1[2])\n",
    "greeting(*list1)                   # unpacking lists          greeting(list1[0],list1[1],list1[2])  or  greeting(\"Bhumika\",20,2000)\n",
    "greeting(**dictio)                 # unpacking dictionary     greeting(name=\"Bhumika\",age=20,pay=2000)"
   ]
  },
  {
   "cell_type": "code",
   "execution_count": 4,
   "metadata": {
    "scrolled": true
   },
   "outputs": [
    {
     "name": "stdout",
     "output_type": "stream",
     "text": [
      "hello world\n",
      "hi\n"
     ]
    }
   ],
   "source": [
    "def _delay(func,_time):\n",
    "    import time\n",
    "    time.sleep(_time)\n",
    "    func() \n",
    "    \n",
    "_delay(greet,10)\n",
    "print(\"hi\")"
   ]
  },
  {
   "cell_type": "markdown",
   "metadata": {},
   "source": [
    "## Lambda expressions"
   ]
  },
  {
   "cell_type": "code",
   "execution_count": 10,
   "metadata": {},
   "outputs": [
    {
     "name": "stdout",
     "output_type": "stream",
     "text": [
      "3\n"
     ]
    }
   ],
   "source": [
    "# single expression function or inline functions\n",
    "def f(a,b):\n",
    "    return a+b\n",
    "f=lambda a,b:a+b\n",
    "print(f(1,2))"
   ]
  },
  {
   "cell_type": "markdown",
   "metadata": {},
   "source": [
    "### sort   modifies the original list\n",
    "###   sorted creates the new list"
   ]
  },
  {
   "cell_type": "code",
   "execution_count": 12,
   "metadata": {},
   "outputs": [],
   "source": [
    "names=['apple', 'google', 'yahoo', 'gmail', 'facebook', 'samsung']"
   ]
  },
  {
   "cell_type": "code",
   "execution_count": 13,
   "metadata": {},
   "outputs": [],
   "source": [
    "names.sort()               # modifies the original list\n",
    "print(names)"
   ]
  },
  {
   "cell_type": "code",
   "execution_count": 17,
   "metadata": {},
   "outputs": [
    {
     "data": {
      "text/plain": [
       "['apple', 'google', 'yahoo', 'gmail', 'facebook', 'samsung']"
      ]
     },
     "execution_count": 17,
     "metadata": {},
     "output_type": "execute_result"
    }
   ],
   "source": [
    "names"
   ]
  },
  {
   "cell_type": "code",
   "execution_count": 21,
   "metadata": {},
   "outputs": [
    {
     "name": "stdout",
     "output_type": "stream",
     "text": [
      "['yahoo', 'samsung', 'google', 'gmail', 'facebook', 'apple']\n"
     ]
    }
   ],
   "source": [
    "names.sort(reverse=True)\n",
    "print(names)"
   ]
  },
  {
   "cell_type": "code",
   "execution_count": 22,
   "metadata": {},
   "outputs": [],
   "source": [
    "names=['apple', 'google', 'yahoo', 'gmail', 'facebook', 'samsung']"
   ]
  },
  {
   "cell_type": "code",
   "execution_count": 23,
   "metadata": {},
   "outputs": [
    {
     "data": {
      "text/plain": [
       "['apple', 'facebook', 'gmail', 'google', 'samsung', 'yahoo']"
      ]
     },
     "execution_count": 23,
     "metadata": {},
     "output_type": "execute_result"
    }
   ],
   "source": [
    "sorted(names)                        ## creates a new list"
   ]
  },
  {
   "cell_type": "code",
   "execution_count": 24,
   "metadata": {},
   "outputs": [
    {
     "data": {
      "text/plain": [
       "['apple', 'google', 'yahoo', 'gmail', 'facebook', 'samsung']"
      ]
     },
     "execution_count": 24,
     "metadata": {},
     "output_type": "execute_result"
    }
   ],
   "source": [
    "names"
   ]
  },
  {
   "cell_type": "code",
   "execution_count": 35,
   "metadata": {},
   "outputs": [
    {
     "name": "stdout",
     "output_type": "stream",
     "text": [
      "['aaaa', 'bbb', 'cc', 'd']\n"
     ]
    }
   ],
   "source": [
    "a=['bbb','d','cc','aaaa']\n",
    "print(sorted(a))"
   ]
  },
  {
   "cell_type": "code",
   "execution_count": 38,
   "metadata": {},
   "outputs": [
    {
     "data": {
      "text/plain": [
       "['d', 'cc', 'bbb', 'aaaa']"
      ]
     },
     "execution_count": 38,
     "metadata": {},
     "output_type": "execute_result"
    }
   ],
   "source": [
    "#def get_len(item):\n",
    " #   return len(item)\n",
    "#sorted(a,key=get_len)\n",
    "\n",
    "\n",
    "##           or\n",
    "    \n",
    "    \n",
    "    \n",
    "    \n",
    "sorted(a,key=len)"
   ]
  },
  {
   "cell_type": "code",
   "execution_count": 39,
   "metadata": {},
   "outputs": [
    {
     "data": {
      "text/plain": [
       "['aaaa', 'bbb', 'cc', 'd']"
      ]
     },
     "execution_count": 39,
     "metadata": {},
     "output_type": "execute_result"
    }
   ],
   "source": [
    "sorted(a,key=len,reverse=True)"
   ]
  },
  {
   "cell_type": "code",
   "execution_count": 40,
   "metadata": {},
   "outputs": [
    {
     "data": {
      "text/plain": [
       "['aw', 'bv', 'cu', 'dt']"
      ]
     },
     "execution_count": 40,
     "metadata": {},
     "output_type": "execute_result"
    }
   ],
   "source": [
    "l=['aw','bv','cu','dt']\n",
    "sorted(l)"
   ]
  },
  {
   "cell_type": "code",
   "execution_count": 43,
   "metadata": {},
   "outputs": [
    {
     "name": "stdout",
     "output_type": "stream",
     "text": [
      "['dt', 'cu', 'bv', 'aw']\n"
     ]
    }
   ],
   "source": [
    "#def get_last_char(item):\n",
    "#    return item[-1]\n",
    "#sorted(l,key=get_last_char)\n",
    "\n",
    "##         or\n",
    "\n",
    "\n",
    "\n",
    "\n",
    "print(sorted(l,key=lambda item: item[-1]))\n",
    "\n"
   ]
  },
  {
   "cell_type": "code",
   "execution_count": 44,
   "metadata": {},
   "outputs": [],
   "source": [
    "t=[('apple',5),('ggogle',6),('yahoo',5),('gmail',5),('facebook',8),('samsung',7)]"
   ]
  },
  {
   "cell_type": "code",
   "execution_count": 45,
   "metadata": {},
   "outputs": [
    {
     "data": {
      "text/plain": [
       "[('apple', 5),\n",
       " ('facebook', 8),\n",
       " ('ggogle', 6),\n",
       " ('gmail', 5),\n",
       " ('samsung', 7),\n",
       " ('yahoo', 5)]"
      ]
     },
     "execution_count": 45,
     "metadata": {},
     "output_type": "execute_result"
    }
   ],
   "source": [
    "sorted(t)"
   ]
  },
  {
   "cell_type": "code",
   "execution_count": 46,
   "metadata": {},
   "outputs": [
    {
     "data": {
      "text/plain": [
       "[('apple', 5),\n",
       " ('yahoo', 5),\n",
       " ('gmail', 5),\n",
       " ('ggogle', 6),\n",
       " ('samsung', 7),\n",
       " ('facebook', 8)]"
      ]
     },
     "execution_count": 46,
     "metadata": {},
     "output_type": "execute_result"
    }
   ],
   "source": [
    "def get_len(item):\n",
    "    return item[-1]\n",
    "sorted(t,key=get_len)"
   ]
  },
  {
   "cell_type": "code",
   "execution_count": 48,
   "metadata": {},
   "outputs": [
    {
     "data": {
      "text/plain": [
       "[('apple', 5),\n",
       " ('yahoo', 5),\n",
       " ('gmail', 5),\n",
       " ('ggogle', 6),\n",
       " ('samsung', 7),\n",
       " ('facebook', 8)]"
      ]
     },
     "execution_count": 48,
     "metadata": {},
     "output_type": "execute_result"
    }
   ],
   "source": [
    "sorted(t,key=lambda item:item[-1])"
   ]
  },
  {
   "cell_type": "code",
   "execution_count": 51,
   "metadata": {},
   "outputs": [],
   "source": [
    "prices={'ACME':45.23,\"APLE\":612.78,'IBM':205.55,'HPQ':37.20,'FB':10.75}"
   ]
  },
  {
   "cell_type": "code",
   "execution_count": 52,
   "metadata": {},
   "outputs": [
    {
     "data": {
      "text/plain": [
       "['ACME', 'APLE', 'FB', 'HPQ', 'IBM']"
      ]
     },
     "execution_count": 52,
     "metadata": {},
     "output_type": "execute_result"
    }
   ],
   "source": [
    "sorted(prices)"
   ]
  },
  {
   "cell_type": "code",
   "execution_count": 59,
   "metadata": {},
   "outputs": [
    {
     "name": "stdout",
     "output_type": "stream",
     "text": [
      "{'FB': 10.75, 'HPQ': 37.2, 'ACME': 45.23, 'IBM': 205.55, 'APLE': 612.78}\n"
     ]
    }
   ],
   "source": [
    "def get_share_prices(item):\n",
    "    return item[-1]\n",
    "print(dict(sorted(prices.items(),key=get_share_prices)))               ## or  l=[(company,price) for company,price in prices.items()]      to convert the dictionary into list of tuple"
   ]
  },
  {
   "cell_type": "code",
   "execution_count": 61,
   "metadata": {},
   "outputs": [
    {
     "name": "stdout",
     "output_type": "stream",
     "text": [
      "{'FB': 10.75, 'HPQ': 37.2, 'ACME': 45.23, 'IBM': 205.55, 'APLE': 612.78}\n"
     ]
    }
   ],
   "source": [
    "print(dict(sorted(prices.items(),key=lambda item:item[-1])))"
   ]
  },
  {
   "cell_type": "code",
   "execution_count": null,
   "metadata": {},
   "outputs": [],
   "source": []
  }
 ],
 "metadata": {
  "kernelspec": {
   "display_name": "Python 3",
   "language": "python",
   "name": "python3"
  },
  "language_info": {
   "codemirror_mode": {
    "name": "ipython",
    "version": 3
   },
   "file_extension": ".py",
   "mimetype": "text/x-python",
   "name": "python",
   "nbconvert_exporter": "python",
   "pygments_lexer": "ipython3",
   "version": "3.7.6"
  }
 },
 "nbformat": 4,
 "nbformat_minor": 4
}
