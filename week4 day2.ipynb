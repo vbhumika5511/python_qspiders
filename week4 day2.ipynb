{
 "cells": [
  {
   "cell_type": "markdown",
   "metadata": {},
   "source": [
    "# wite a function which checks whether a given string is a palindrome or not"
   ]
  },
  {
   "cell_type": "code",
   "execution_count": 13,
   "metadata": {},
   "outputs": [
    {
     "name": "stdout",
     "output_type": "stream",
     "text": [
      "True\n"
     ]
    }
   ],
   "source": [
    "s=\"mom\"\n",
    "def is_palindrome(s):\n",
    "    t=s[::-1]\n",
    "    \n",
    "    if t==s:\n",
    "        return True\n",
    "    else:\n",
    "        return False\n",
    "print(is_palindrome(s))"
   ]
  },
  {
   "cell_type": "code",
   "execution_count": 26,
   "metadata": {},
   "outputs": [
    {
     "name": "stdout",
     "output_type": "stream",
     "text": [
      "True\n"
     ]
    }
   ],
   "source": [
    "def is_palindrome(s):\n",
    "    t=s[::-1]\n",
    "    return True if t==s else False\n",
    "print(is_palindrome(\"malayalam\"))"
   ]
  },
  {
   "cell_type": "markdown",
   "metadata": {},
   "source": [
    "## write a program to search for a particular character in a string if a character is present then print the index at which the character is present"
   ]
  },
  {
   "cell_type": "code",
   "execution_count": 27,
   "metadata": {},
   "outputs": [
    {
     "name": "stdout",
     "output_type": "stream",
     "text": [
      "(2, 'h')\n"
     ]
    }
   ],
   "source": [
    "def search(string ,key):\n",
    "    for index ,c in enumerate(string):\n",
    "        if key==c:\n",
    "            return index+1,c\n",
    "print(search(\"Bhumika\",\"h\"))"
   ]
  },
  {
   "cell_type": "code",
   "execution_count": 31,
   "metadata": {},
   "outputs": [
    {
     "name": "stdout",
     "output_type": "stream",
     "text": [
      "1\n"
     ]
    }
   ],
   "source": [
    "def search(string,key):\n",
    "    if string.find(key)>-1:\n",
    "        return string.find(key)\n",
    "    else:\n",
    "        print(\"key not found\")\n",
    "print(search(\"Bhumika\",\"h\"))"
   ]
  },
  {
   "cell_type": "code",
   "execution_count": 36,
   "metadata": {},
   "outputs": [
    {
     "name": "stdout",
     "output_type": "stream",
     "text": [
      "Key not found\n",
      "1\n"
     ]
    }
   ],
   "source": [
    "def search(string,key):\n",
    "    try:\n",
    "        return string.index(key)\n",
    "    except ValueError:\n",
    "        return \"Key not found\"\n",
    "print(search(\"Bhumika\",\"o\"))\n",
    "print(search(\"Bhumika\",\"h\"))"
   ]
  },
  {
   "cell_type": "markdown",
   "metadata": {},
   "source": [
    "## write a program to get the below output\n",
    "sentence=\"Python is a programming language\"\n",
    "\n",
    "d={'p' : ['python', programming' ], 'i' : ['is'], 'a' : ['a'], 'l' : ['language']}\n"
   ]
  },
  {
   "cell_type": "code",
   "execution_count": 3,
   "metadata": {},
   "outputs": [
    {
     "name": "stdout",
     "output_type": "stream",
     "text": [
      "defaultdict(<class 'list'>, {'p': ['python', 'programming'], 'i': ['is'], 'a': ['a'], 'l': ['language']})\n"
     ]
    }
   ],
   "source": [
    "from collections import defaultdict\n",
    "d=defaultdict(list)\n",
    "sentence=\"python is a programming language\"\n",
    "words=sentence.split()\n",
    "for word in words:\n",
    "    d[word[0]].append(word)\n",
    "print(d)\n",
    "    \n",
    "        "
   ]
  },
  {
   "cell_type": "markdown",
   "metadata": {},
   "source": [
    "##  write a decorator which returns only positive value after subtraction"
   ]
  },
  {
   "cell_type": "code",
   "execution_count": 58,
   "metadata": {},
   "outputs": [
    {
     "name": "stdout",
     "output_type": "stream",
     "text": [
      "10\n"
     ]
    }
   ],
   "source": [
    "def positive(func):\n",
    "    def wrapper(*args,**kwargs):\n",
    "        result = func(*args,**kwargs)\n",
    "        return abs(result)\n",
    "    return wrapper\n",
    "\n",
    "\n",
    "@positive\n",
    "def sub(a,b):\n",
    "    return a-b\n",
    "\n",
    "\n",
    "\n",
    "print(sub(10,20))"
   ]
  },
  {
   "cell_type": "markdown",
   "metadata": {},
   "source": [
    "## write a function which takes list of strings and float and integer . if item is string it should print as it is else reverse it\n",
    "\n",
    "data=['apple',1.2,'hello',89,90.34,'bhumika']\n"
   ]
  },
  {
   "cell_type": "code",
   "execution_count": 65,
   "metadata": {},
   "outputs": [],
   "source": [
    "data=['apple',1.2,'hello','89',90.34,'bhumika']"
   ]
  },
  {
   "cell_type": "code",
   "execution_count": 68,
   "metadata": {},
   "outputs": [
    {
     "name": "stdout",
     "output_type": "stream",
     "text": [
      "apple\n",
      "2.1\n",
      "hello\n",
      "89\n",
      "43.09\n",
      "bhumika\n"
     ]
    }
   ],
   "source": [
    "l=[]\n",
    "def spam(items):\n",
    "    for item in items:\n",
    "        if isinstance(item,str):\n",
    "            print(item)\n",
    "        else:\n",
    "            print(str(item)[::-1])\n",
    "            \n",
    "spam(data)"
   ]
  },
  {
   "cell_type": "markdown",
   "metadata": {},
   "source": [
    "## write a program to get the below op\n",
    "sen=\"hi how are you\"\n",
    "\n",
    "\n",
    "op\n",
    "\n",
    "\n",
    "ih woh era uoy"
   ]
  },
  {
   "cell_type": "code",
   "execution_count": 72,
   "metadata": {},
   "outputs": [
    {
     "ename": "SyntaxError",
     "evalue": "invalid syntax (<ipython-input-72-e8fe8a025d83>, line 4)",
     "output_type": "error",
     "traceback": [
      "\u001b[1;36m  File \u001b[1;32m\"<ipython-input-72-e8fe8a025d83>\"\u001b[1;36m, line \u001b[1;32m4\u001b[0m\n\u001b[1;33m    wrods.append(wrod[::-])\u001b[0m\n\u001b[1;37m                         ^\u001b[0m\n\u001b[1;31mSyntaxError\u001b[0m\u001b[1;31m:\u001b[0m invalid syntax\n"
     ]
    }
   ],
   "source": [
    "sen=\"hi how are you\"\n",
    "words=sen.split()\n",
    "for word in words:\n",
    "    wrods.append(wd[::-])\n",
    "\" \".join(words)"
   ]
  },
  {
   "cell_type": "code",
   "execution_count": 1,
   "metadata": {},
   "outputs": [
    {
     "name": "stdout",
     "output_type": "stream",
     "text": [
      "hello\n"
     ]
    }
   ],
   "source": [
    "print(\"hello\")"
   ]
  },
  {
   "cell_type": "code",
   "execution_count": 4,
   "metadata": {},
   "outputs": [
    {
     "data": {
      "text/plain": [
       "'python is a programming language'"
      ]
     },
     "execution_count": 4,
     "metadata": {},
     "output_type": "execute_result"
    }
   ],
   "source": [
    "sentence"
   ]
  },
  {
   "cell_type": "code",
   "execution_count": 16,
   "metadata": {},
   "outputs": [
    {
     "data": {
      "text/plain": [
       "'programming'"
      ]
     },
     "execution_count": 16,
     "metadata": {},
     "output_type": "execute_result"
    }
   ],
   "source": [
    "words=sentence.split()\n",
    "max(words,key=len)"
   ]
  },
  {
   "cell_type": "code",
   "execution_count": 44,
   "metadata": {},
   "outputs": [
    {
     "data": {
      "text/plain": [
       "('programming', 11)"
      ]
     },
     "execution_count": 44,
     "metadata": {},
     "output_type": "execute_result"
    }
   ],
   "source": [
    "\n",
    "d={word: len(word) for word in words }\n",
    "max(d.items(),key=lambda item:item[-1])"
   ]
  },
  {
   "cell_type": "code",
   "execution_count": 55,
   "metadata": {},
   "outputs": [
    {
     "name": "stdout",
     "output_type": "stream",
     "text": [
      "{'a': 'olleh', 'b': 100, 'c': 10.1, 'd': 'dlrow'}\n"
     ]
    }
   ],
   "source": [
    "d={'a':\"hello\",'b':100,'c':10.1,'d':\"world\"}\n",
    "d={key: value[::-1] if isinstance(value,str) else value for key,value in d.items()}\n",
    "print(d)"
   ]
  },
  {
   "cell_type": "code",
   "execution_count": 10,
   "metadata": {},
   "outputs": [
    {
     "name": "stdout",
     "output_type": "stream",
     "text": [
      "RCN\n",
      "TAX\n"
     ]
    }
   ],
   "source": [
    "def func(string,flag):\n",
    "    if flag==0:\n",
    "        print(string[1::2])\n",
    "    else:\n",
    "        print(string[::2])\n",
    "func(\"TRACXN\",0)\n",
    "func(\"TRACXN\",1)"
   ]
  },
  {
   "cell_type": "code",
   "execution_count": 11,
   "metadata": {},
   "outputs": [
    {
     "data": {
      "text/plain": [
       "'TAX'"
      ]
     },
     "execution_count": 11,
     "metadata": {},
     "output_type": "execute_result"
    }
   ],
   "source": [
    "def func(string,flag):\n",
    "    return string[::2] if flag else string[1::2]\n",
    "func(\"TRACXN\",0)\n",
    "func(\"TRACXN\",1)"
   ]
  },
  {
   "cell_type": "code",
   "execution_count": 13,
   "metadata": {},
   "outputs": [
    {
     "name": "stdout",
     "output_type": "stream",
     "text": [
      "123\n",
      "23\n"
     ]
    }
   ],
   "source": [
    "a=['abc','123','hello','23']\n",
    "for item in a:\n",
    "    if item.isnumeric():\n",
    "        print(item)"
   ]
  },
  {
   "cell_type": "code",
   "execution_count": 26,
   "metadata": {},
   "outputs": [
    {
     "name": "stdout",
     "output_type": "stream",
     "text": [
      "defaultdict(<class 'int'>, {'h': 1, 'e': 1, 'l': 3, 'o': 2, 'w': 1, 'r': 1, 'd': 1})\n"
     ]
    }
   ],
   "source": [
    "from collections import defaultdict\n",
    "s='helloworld'\n",
    "d=defaultdict(int)\n",
    "for c in s:\n",
    "    d[c]+=1\n",
    "print(d)"
   ]
  },
  {
   "cell_type": "code",
   "execution_count": 28,
   "metadata": {},
   "outputs": [
    {
     "name": "stdout",
     "output_type": "stream",
     "text": [
      "{'l': 3, 'o': 2}\n"
     ]
    }
   ],
   "source": [
    "from collections import defaultdict\n",
    "s='helloworld'\n",
    "d={c:s.count(c) for c in s if s.count(c)>1}\n",
    "print(d)"
   ]
  },
  {
   "cell_type": "code",
   "execution_count": 37,
   "metadata": {},
   "outputs": [
    {
     "name": "stdout",
     "output_type": "stream",
     "text": [
      "hlowrdwloet yhn"
     ]
    }
   ],
   "source": [
    "s='hello world welcome to python'\n",
    "for i in range(0,len(s),2):\n",
    "    print(s[i],end='')"
   ]
  },
  {
   "cell_type": "code",
   "execution_count": 39,
   "metadata": {},
   "outputs": [
    {
     "name": "stdout",
     "output_type": "stream",
     "text": [
      "['h', 'l', 'o', 'w', 'r', 'd', 'w', 'l', 'o', 'e', 't', ' ', 'y', 'h', 'n']\n"
     ]
    }
   ],
   "source": [
    "s='hello world welcome to python'\n",
    "l=[]\n",
    "for i in range(0,len(s),2):\n",
    "    l.append(s[i])\n",
    "print(l)"
   ]
  },
  {
   "cell_type": "code",
   "execution_count": 49,
   "metadata": {},
   "outputs": [
    {
     "name": "stdout",
     "output_type": "stream",
     "text": [
      "[1, 4, 9, 16]\n"
     ]
    }
   ],
   "source": [
    "a=[1,2,3,4]\n",
    "sq= lambda item : item**2\n",
    "square=[sq(item) for item in a]\n",
    "print(square)"
   ]
  },
  {
   "cell_type": "code",
   "execution_count": 51,
   "metadata": {},
   "outputs": [
    {
     "name": "stdout",
     "output_type": "stream",
     "text": [
      "[1, 4, 9, 16]\n"
     ]
    }
   ],
   "source": [
    "m= map(lambda item: item**2,a)\n",
    "print(list(m))"
   ]
  },
  {
   "cell_type": "code",
   "execution_count": 70,
   "metadata": {},
   "outputs": [
    {
     "name": "stdout",
     "output_type": "stream",
     "text": [
      "anagrams\n"
     ]
    }
   ],
   "source": [
    "def anagram(s1,s2):\n",
    "    if(sorted(s1.lower())==sorted(s2.lower())): \n",
    "        print(\"anagrams\")  \n",
    "    else: \n",
    "        print(\"not anagrams\")\n",
    "        \n",
    "anagram(\"tea\",\"EAT\")"
   ]
  },
  {
   "cell_type": "code",
   "execution_count": 66,
   "metadata": {},
   "outputs": [
    {
     "data": {
      "text/plain": [
       "\"['d', 'f', 'h', 's', 'y', 'y']\""
      ]
     },
     "execution_count": 66,
     "metadata": {},
     "output_type": "execute_result"
    }
   ],
   "source": [
    "s1=\"yfsdyh\"\n",
    "str(sorted(s1))"
   ]
  },
  {
   "cell_type": "code",
   "execution_count": null,
   "metadata": {},
   "outputs": [],
   "source": []
  }
 ],
 "metadata": {
  "kernelspec": {
   "display_name": "Python 3",
   "language": "python",
   "name": "python3"
  },
  "language_info": {
   "codemirror_mode": {
    "name": "ipython",
    "version": 3
   },
   "file_extension": ".py",
   "mimetype": "text/x-python",
   "name": "python",
   "nbconvert_exporter": "python",
   "pygments_lexer": "ipython3",
   "version": "3.7.6"
  }
 },
 "nbformat": 4,
 "nbformat_minor": 4
}
